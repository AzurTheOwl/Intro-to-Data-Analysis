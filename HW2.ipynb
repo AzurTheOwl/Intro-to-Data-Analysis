{
 "cells": [
  {
   "cell_type": "code",
   "execution_count": 1,
   "metadata": {
    "collapsed": false
   },
   "outputs": [],
   "source": [
    "import sys,os\n",
    "import pandas as pd\n",
    "import numpy as np\n",
    "#import matplotlib\n",
    "#import matplotlib.pyplot as plt \n",
    "import seaborn as sns\n",
    "from math import isnan\n",
    "#%matplotlib inline"
   ]
  },
  {
   "cell_type": "code",
   "execution_count": 27,
   "metadata": {
    "collapsed": false
   },
   "outputs": [
    {
     "name": "stdout",
     "output_type": "stream",
     "text": [
      "(695735, 29)\n"
     ]
    }
   ],
   "source": [
    "d_accident=pd.read_csv('C:\\Users\\Dmitriy\\Desktop\\Intro to Data Analysis\\NYPD_Motor_Vehicle_Collisions.csv')\n",
    "print d_accident.shape"
   ]
  },
  {
   "cell_type": "code",
   "execution_count": 28,
   "metadata": {
    "collapsed": false
   },
   "outputs": [
    {
     "data": {
      "text/html": [
       "<div>\n",
       "<table border=\"1\" class=\"dataframe\">\n",
       "  <thead>\n",
       "    <tr style=\"text-align: right;\">\n",
       "      <th></th>\n",
       "      <th>DATE</th>\n",
       "      <th>TIME</th>\n",
       "      <th>BOROUGH</th>\n",
       "      <th>ZIP CODE</th>\n",
       "      <th>LATITUDE</th>\n",
       "      <th>LONGITUDE</th>\n",
       "      <th>LOCATION</th>\n",
       "      <th>ON STREET NAME</th>\n",
       "      <th>CROSS STREET NAME</th>\n",
       "      <th>OFF STREET NAME</th>\n",
       "      <th>...</th>\n",
       "      <th>CONTRIBUTING FACTOR VEHICLE 2</th>\n",
       "      <th>CONTRIBUTING FACTOR VEHICLE 3</th>\n",
       "      <th>CONTRIBUTING FACTOR VEHICLE 4</th>\n",
       "      <th>CONTRIBUTING FACTOR VEHICLE 5</th>\n",
       "      <th>UNIQUE KEY</th>\n",
       "      <th>VEHICLE TYPE CODE 1</th>\n",
       "      <th>VEHICLE TYPE CODE 2</th>\n",
       "      <th>VEHICLE TYPE CODE 3</th>\n",
       "      <th>VEHICLE TYPE CODE 4</th>\n",
       "      <th>VEHICLE TYPE CODE 5</th>\n",
       "    </tr>\n",
       "  </thead>\n",
       "  <tbody>\n",
       "    <tr>\n",
       "      <th>0</th>\n",
       "      <td>11/09/2015</td>\n",
       "      <td>19:00</td>\n",
       "      <td>QUEENS</td>\n",
       "      <td>11419</td>\n",
       "      <td>40.688112</td>\n",
       "      <td>-73.819331</td>\n",
       "      <td>(40.6881124, -73.8193308)</td>\n",
       "      <td>LIBERTY AVENUE</td>\n",
       "      <td>125 STREET</td>\n",
       "      <td>NaN</td>\n",
       "      <td>...</td>\n",
       "      <td>Unspecified</td>\n",
       "      <td>NaN</td>\n",
       "      <td>NaN</td>\n",
       "      <td>NaN</td>\n",
       "      <td>3332027</td>\n",
       "      <td>VAN</td>\n",
       "      <td>PASSENGER VEHICLE</td>\n",
       "      <td>NaN</td>\n",
       "      <td>NaN</td>\n",
       "      <td>NaN</td>\n",
       "    </tr>\n",
       "  </tbody>\n",
       "</table>\n",
       "<p>1 rows × 29 columns</p>\n",
       "</div>"
      ],
      "text/plain": [
       "         DATE   TIME BOROUGH  ZIP CODE   LATITUDE  LONGITUDE  \\\n",
       "0  11/09/2015  19:00  QUEENS     11419  40.688112 -73.819331   \n",
       "\n",
       "                    LOCATION  ON STREET NAME CROSS STREET NAME  \\\n",
       "0  (40.6881124, -73.8193308)  LIBERTY AVENUE        125 STREET   \n",
       "\n",
       "  OFF STREET NAME         ...          CONTRIBUTING FACTOR VEHICLE 2  \\\n",
       "0             NaN         ...                            Unspecified   \n",
       "\n",
       "   CONTRIBUTING FACTOR VEHICLE 3  CONTRIBUTING FACTOR VEHICLE 4  \\\n",
       "0                            NaN                            NaN   \n",
       "\n",
       "   CONTRIBUTING FACTOR VEHICLE 5  UNIQUE KEY  VEHICLE TYPE CODE 1  \\\n",
       "0                            NaN     3332027                  VAN   \n",
       "\n",
       "   VEHICLE TYPE CODE 2  VEHICLE TYPE CODE 3 VEHICLE TYPE CODE 4  \\\n",
       "0    PASSENGER VEHICLE                  NaN                 NaN   \n",
       "\n",
       "  VEHICLE TYPE CODE 5  \n",
       "0                 NaN  \n",
       "\n",
       "[1 rows x 29 columns]"
      ]
     },
     "execution_count": 28,
     "metadata": {},
     "output_type": "execute_result"
    }
   ],
   "source": [
    "d_accident.head(1)"
   ]
  },
  {
   "cell_type": "code",
   "execution_count": 29,
   "metadata": {
    "collapsed": false
   },
   "outputs": [],
   "source": [
    "type_grouped = d_accident.groupby('VEHICLE TYPE CODE 1')\n",
    "#type_grouped.head(5)\n",
    "#d_accident[\"LATITUDE\"]"
   ]
  },
  {
   "cell_type": "markdown",
   "metadata": {},
   "source": [
    "# Найдем топ-5 самых опасных для велосипедистов улиц:"
   ]
  },
  {
   "cell_type": "code",
   "execution_count": 5,
   "metadata": {
    "collapsed": false
   },
   "outputs": [
    {
     "name": "stdout",
     "output_type": "stream",
     "text": [
      "17742\n",
      "BROADWAY 476\n",
      "5 AVENUE 242\n",
      "BEDFORD AVENUE 219\n",
      "ROOSEVELT AVENUE 174\n",
      "3 AVENUE 163\n"
     ]
    }
   ],
   "source": [
    "def bicycle_warning(d_accident):\n",
    "    dangerous_streets = dict()\n",
    "    total_accident = 0\n",
    "    \n",
    "    for item, row in d_accident.iterrows():\n",
    "        if (row['VEHICLE TYPE CODE 1'] == \"BICYCLE\") or (row['VEHICLE TYPE CODE 2'] == \"BICYCLE\") or (row['VEHICLE TYPE CODE 3'] == \"BICYCLE\") or (row['VEHICLE TYPE CODE 4'] == \"BICYCLE\") or (row['VEHICLE TYPE CODE 5'] == \"BICYCLE\"):\n",
    "            total_accident += 1\n",
    "            if row[\"ON STREET NAME\"] in dangerous_streets:\n",
    "                dangerous_streets[row[\"ON STREET NAME\"]] += 1\n",
    "            else:\n",
    "                dangerous_streets[row[\"ON STREET NAME\"]] = 1\n",
    "           \n",
    "    top_dangerous = sorted(dangerous_streets.items(), key=lambda street: street[1], reverse=True)\n",
    "    print total_accident\n",
    "    for key, value in top_dangerous[:6]:    \n",
    "        if not (type(key) == float and isnan(key)):\n",
    "            print key, value\n",
    "    \n",
    "    return\n",
    "    \n",
    "bicycle_warning(d_accident)\n"
   ]
  },
  {
   "cell_type": "markdown",
   "metadata": {},
   "source": [
    "# А теперь - топ-5 самых распостраненных причин аварий, в которые попадают таксисты:"
   ]
  },
  {
   "cell_type": "code",
   "execution_count": 6,
   "metadata": {
    "collapsed": false
   },
   "outputs": [
    {
     "name": "stdout",
     "output_type": "stream",
     "text": [
      "54876\n",
      "Driver Inattention/Distraction 5419\n",
      "Other Vehicular 3281\n",
      "Fatigued/Drowsy 2738\n",
      "Turning Improperly 2050\n",
      "Failure to Yield Right-of-Way 1709\n"
     ]
    }
   ],
   "source": [
    "def taxi_warning(d_accident):\n",
    "    accident_reason = dict()\n",
    "    total_accident = 0\n",
    "    \n",
    "    #d_accident.apply(add_street, axis=1)\n",
    "    for item, row in d_accident.iterrows():\n",
    "        for i in xrange(1,5):\n",
    "            if row['VEHICLE TYPE CODE ' + str(i)] == \"TAXI\":\n",
    "                total_accident += 1\n",
    "                if row[\"CONTRIBUTING FACTOR VEHICLE \" + str(i)] in accident_reason:\n",
    "                    accident_reason[row[\"CONTRIBUTING FACTOR VEHICLE \" + str(i)]] += 1\n",
    "                else:\n",
    "                    accident_reason[row[\"CONTRIBUTING FACTOR VEHICLE \" + str(i)]] = 1\n",
    "\n",
    "    accident_reason.pop('Unspecified')        \n",
    "    top_reasons = sorted(accident_reason.items(), key=lambda reason: reason[1], reverse=True)\n",
    "    print total_accident\n",
    "    for key, value in top_reasons[:5]:    \n",
    "        print key, value\n",
    "    \n",
    "    return\n",
    "    \n",
    "taxi_warning(d_accident)"
   ]
  },
  {
   "cell_type": "markdown",
   "metadata": {},
   "source": [
    "# Выберем координаты аварий с участием таксистов:\n",
    "Учитывая, что все аварии либо имеют обе координаты, либо не имеют их вообще"
   ]
  },
  {
   "cell_type": "code",
   "execution_count": 5,
   "metadata": {
    "collapsed": false
   },
   "outputs": [],
   "source": [
    "def get_coordinates(d_accident):\n",
    "    lon = list()\n",
    "    lat = list()\n",
    "    for item, row in d_accident.iterrows():\n",
    "        for i in xrange(1,5):\n",
    "            if row['VEHICLE TYPE CODE ' + str(i)] == \"TAXI\":\n",
    "                if not (type(row[\"LATITUDE\"]) == float and isnan(row[\"LATITUDE\"])):\n",
    "                    lon.append(row[\"LONGITUDE\"])\n",
    "                    lat.append(row[\"LATITUDE\"])\n",
    "    return lon, lat\n",
    "\n",
    "lon, lat = get_coordinates(d_accident)\n"
   ]
  },
  {
   "cell_type": "markdown",
   "metadata": {},
   "source": [
    "# И отметим их на карте:"
   ]
  },
  {
   "cell_type": "code",
   "execution_count": 11,
   "metadata": {
    "collapsed": false
   },
   "outputs": [],
   "source": [
    "import pylab as pl\n",
    "import mpl_toolkits.basemap as bm\n",
    "#%pylab"
   ]
  },
  {
   "cell_type": "code",
   "execution_count": 25,
   "metadata": {
    "collapsed": false
   },
   "outputs": [],
   "source": [
    "accident_map = bm.Basemap(llcrnrlat=40.55, urcrnrlat=40.95, llcrnrlon=-74.2, urcrnrlon=-73.65, resolution='h')\n",
    "\n",
    "accident_map.fillcontinents(color='black', zorder=0)\n",
    "accident_map.drawcounties(linewidth=0.3, color='white')\n",
    "accident_map.drawmapboundary(fill_color='white')\n",
    "\n",
    "m.scatter(lon, lat, color='red', s=0.1)\n",
    "\n",
    "pl.show()"
   ]
  },
  {
   "cell_type": "markdown",
   "metadata": {
    "collapsed": true
   },
   "source": [
    "# Отобразим смертельность аварий по различным видам транспорта:"
   ]
  },
  {
   "cell_type": "code",
   "execution_count": 33,
   "metadata": {
    "collapsed": false
   },
   "outputs": [],
   "source": [
    "def death_accidents(d_accident):  \n",
    "    vehicle_types = dict()\n",
    "    for item, row in d_accident.iterrows():\n",
    "        for i in xrange(1,5):\n",
    "            if not (type(row['VEHICLE TYPE CODE ' + str(i)]) == float and isnan(row['VEHICLE TYPE CODE ' + str(i)])):\n",
    "                if row['VEHICLE TYPE CODE ' + str(i)] not in vehicle_types:\n",
    "                    vehicle_types[row['VEHICLE TYPE CODE ' + str(i)]] = {'total accidents': 1, 'total deaths': row['NUMBER OF PERSONS KILLED']}\n",
    "                else:\n",
    "                    vehicle_types[row['VEHICLE TYPE CODE ' + str(i)]]['total accidents']  += 1\n",
    "                    vehicle_types[row['VEHICLE TYPE CODE ' + str(i)]]['total deaths']  += row['NUMBER OF PERSONS KILLED']\n",
    "                if row['NUMBER OF PERSONS KILLED'] not in vehicle_types[row['VEHICLE TYPE CODE ' + str(i)]]:\n",
    "                    vehicle_types[row['VEHICLE TYPE CODE ' + str(i)]][row['NUMBER OF PERSONS KILLED']] = 1\n",
    "                else:\n",
    "                    vehicle_types[row['VEHICLE TYPE CODE ' + str(i)]][row['NUMBER OF PERSONS KILLED']] += 1\n",
    "\n",
    "    #print vehicle_types\n",
    "    \n",
    "    return vehicle_types\n",
    "\n",
    "vehicle_types = death_accidents(d_accident)"
   ]
  },
  {
   "cell_type": "code",
   "execution_count": 34,
   "metadata": {
    "collapsed": false
   },
   "outputs": [
    {
     "name": "stdout",
     "output_type": "stream",
     "text": [
      "{'TAXI': {0L: 54849, 1L: 26, 2L: 1, 'total deaths': 28L, 'total accidents': 54876}, 'SMALL COM VEH(4 TIRES)': {0L: 23273, 1L: 11, 'total deaths': 11L, 'total accidents': 23284}, 'VAN': {0L: 45241, 1L: 45, 'total deaths': 45L, 'total accidents': 45286}, 'PEDICAB': {0L: 109, 'total deaths': 0L, 'total accidents': 109}, 'FIRE TRUCK': {0L: 1175, 1L: 1, 'total deaths': 1L, 'total accidents': 1176}, 'BUS': {0L: 23239, 1L: 46, 'total deaths': 49L, 3L: 1, 'total accidents': 23286}, 'SCOOTER': {0L: 486, 1L: 2, 'total deaths': 2L, 'total accidents': 488}, 'AMBULANCE': {0L: 2982, 1L: 1, 'total deaths': 1L, 'total accidents': 2983}, 'BICYCLE': {0L: 17750, 1L: 53, 'total deaths': 53L, 'total accidents': 17803}, 'SPORT UTILITY / STATION WAGON': {0L: 300085, 1L: 295, 2L: 11, 3L: 2, 5L: 1, 'total accidents': 300394, 'total deaths': 328L}, 'OTHER': {0L: 41452, 1L: 37, 'total deaths': 37L, 'total accidents': 41489}, 'MOTORCYCLE': {0L: 7317, 1L: 112, 2L: 4, 'total deaths': 120L, 'total accidents': 7433}, 'UNKNOWN': {0L: 93953, 1L: 71, 2L: 1, 'total deaths': 73L, 'total accidents': 94025}, 'PASSENGER VEHICLE': {0L: 698629, 1L: 493, 2L: 17, 3L: 5, 4L: 1, 'total accidents': 699145, 'total deaths': 546L}, 'LIVERY VEHICLE': {0L: 15697, 1L: 9, 'total deaths': 9L, 'total accidents': 15706}, 'LARGE COM VEH(6 OR MORE TIRES)': {0L: 25144, 1L: 54, 2L: 1, 'total deaths': 56L, 'total accidents': 25199}, 'PICK-UP TRUCK': {0L: 20715, 1L: 14, 'total deaths': 14L, 'total accidents': 20729}}\n"
     ]
    }
   ],
   "source": [
    "print vehicle_types"
   ]
  },
  {
   "cell_type": "code",
   "execution_count": 41,
   "metadata": {
    "collapsed": false
   },
   "outputs": [
    {
     "name": "stdout",
     "output_type": "stream",
     "text": [
      "TAXI\n",
      "average deaths 0.0000000000\n",
      "SMALL COM VEH(4 TIRES)\n",
      "average deaths 0.0000000000\n",
      "VAN\n",
      "average deaths 0.0000000000\n",
      "PEDICAB\n",
      "average deaths 0.0000000000\n",
      "FIRE TRUCK\n",
      "average deaths 0.0000000000\n",
      "BUS\n",
      "average deaths 0.0000000000\n",
      "SCOOTER\n",
      "average deaths 0.0000000000\n",
      "AMBULANCE\n",
      "average deaths 0.0000000000\n",
      "BICYCLE\n",
      "average deaths 0.0000000000\n",
      "SPORT UTILITY / STATION WAGON\n",
      "average deaths 0.0000000000\n",
      "OTHER\n",
      "average deaths 0.0000000000\n",
      "MOTORCYCLE\n",
      "average deaths 0.0000000000\n",
      "UNKNOWN\n",
      "average deaths 0.0000000000\n",
      "PASSENGER VEHICLE\n",
      "average deaths 0.0000000000\n",
      "LIVERY VEHICLE\n",
      "average deaths 0.0000000000\n",
      "LARGE COM VEH(6 OR MORE TIRES)\n",
      "average deaths 0.0000000000\n",
      "PICK-UP TRUCK\n",
      "average deaths 0.0000000000\n"
     ]
    }
   ],
   "source": [
    "#average = list()\n",
    "for vehicle, deaths in vehicle_types.iteritems():\n",
    "    print vehicle\n",
    "    print 'average deaths %0.10f' % float(vehicle_types[vehicle]['total deaths'] / vehicle_types[vehicle]['total accidents'])\n",
    "    \n",
    "    "
   ]
  },
  {
   "cell_type": "code",
   "execution_count": null,
   "metadata": {
    "collapsed": true
   },
   "outputs": [],
   "source": []
  }
 ],
 "metadata": {
  "kernelspec": {
   "display_name": "Python 2",
   "language": "python",
   "name": "python2"
  },
  "language_info": {
   "codemirror_mode": {
    "name": "ipython",
    "version": 2
   },
   "file_extension": ".py",
   "mimetype": "text/x-python",
   "name": "python",
   "nbconvert_exporter": "python",
   "pygments_lexer": "ipython2",
   "version": "2.7.10"
  }
 },
 "nbformat": 4,
 "nbformat_minor": 0
}
